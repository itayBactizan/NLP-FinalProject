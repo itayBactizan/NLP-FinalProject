{
  "nbformat": 4,
  "nbformat_minor": 0,
  "metadata": {
    "colab": {
      "name": "date code_3.ipynb",
      "provenance": [],
      "collapsed_sections": [],
      "authorship_tag": "ABX9TyOz5d/vEC/MZKx63eOIpIQo",
      "include_colab_link": true
    },
    "kernelspec": {
      "name": "python3",
      "display_name": "Python 3"
    },
    "language_info": {
      "name": "python"
    }
  },
  "cells": [
    {
      "cell_type": "markdown",
      "metadata": {
        "id": "view-in-github",
        "colab_type": "text"
      },
      "source": [
        "<a href=\"https://colab.research.google.com/github/itayBactizan/NLP-FinalProject/blob/main/date_code_3.ipynb\" target=\"_parent\"><img src=\"https://colab.research.google.com/assets/colab-badge.svg\" alt=\"Open In Colab\"/></a>"
      ]
    },
    {
      "cell_type": "code",
      "metadata": {
        "id": "dh0btHooOSlB"
      },
      "source": [
        ""
      ],
      "execution_count": null,
      "outputs": []
    },
    {
      "cell_type": "markdown",
      "metadata": {
        "id": "tLqojifIudRU"
      },
      "source": [
        "## Get Parts (POS)"
      ]
    },
    {
      "cell_type": "markdown",
      "metadata": {
        "id": "o3Y3ykbHQFnX"
      },
      "source": [
        "I marked in the code where I change the function "
      ]
    },
    {
      "cell_type": "code",
      "metadata": {
        "id": "ZFIUD4FCXyUc",
        "colab": {
          "base_uri": "https://localhost:8080/"
        },
        "outputId": "7abc9d03-34eb-492b-e9be-4cf8433bf59e"
      },
      "source": [
        "def get_parts(text, disp=False, verbose=True):\n",
        "  global DEBUG\n",
        "  doc = nlp(text.lower().translate(remove_punct_dict))\n",
        "  docWithPunc = nlp(text.lower()) # itay change get text with punct\n",
        "  date,time, gpe, ents =[], [], {}, [] # itay change add time\n",
        "  action = ''\n",
        "  multiple_cities = False\n",
        "  if disp: p()\n",
        "  for token in doc:\n",
        "    if disp:\n",
        "      p(f'{token.text}, dep_={token.dep_}, ent_type={token.ent_type_}, head={token.head}, lemma_={token.lemma_}, pos_={token.pos_}, tag_={token.tag_}')\n",
        "    if token.ent_type_ == 'GPE': ents.append((token.text.lower(), token))\n",
        "  for entity2 in docWithPunc.ents: # itay change\n",
        "    if disp:\n",
        "      print('with punc')\n",
        "      print(f\"{entity2.text}, {entity2.label_}='{spacy.explain(entity2.label_)}'\")\n",
        "    if entity2.label_==\"TIME\": time.append(entity2.text.lower()) # itay change \n",
        "    if entity2.label_ == 'DATE': date.append(entity2.text.lower()) # itay change\n",
        "  for entity in doc.ents:\n",
        "      if disp:\n",
        "        print(f\"{entity.text}, {entity.label_}='{spacy.explain(entity.label_)}', is_city={entity._.is_city}, is_country={entity._.is_country}\")\n",
        "      ent_text = entity.text.lower().translate(remove_punct_dict)  \n",
        "      if entity.label_ == 'GPE':\n",
        "        token = None\n",
        "        for e in ents:\n",
        "          if ent_text == e[0]:\n",
        "            token = e[1] \n",
        "            break\n",
        "        # verify the GPE is a true GPE for cases that a city has a name that has another meaninig\n",
        "        if token and token.text != token.lemma_: # a true GPE cannot be lemmatized\n",
        "          continue\n",
        "        # for example there is a city in Denemark that has a name 'rain'\n",
        "        if token and len(ents) > 1 and (token.head == token or token.pos_ not in ['PROPN', 'PRON', 'NOUN']) and not entity._.is_country:\n",
        "          valid_gpe = False\n",
        "          for e in ents:\n",
        "            if ent_text != e[0]:\n",
        "              tk = e[1]\n",
        "              if tk.head == token:  # the token is connected to another gpe, so it is a valid gpe (for example, (paris, canada) are connected\n",
        "                valid_gpe = True\n",
        "                break\n",
        "          if not valid_gpe:\n",
        "            if DEBUG: p('A:', ent_text)\n",
        "            continue\n",
        "        ent_type = 'state'\n",
        "        if DEBUG: p('0:', ent_text, entity._.is_city, entity._.is_country)\n",
        "        if entity._.is_city and not entity._.is_country: # 'canada' is a country and also a city in Portugal\n",
        "          ent_type = 'city'\n",
        "          if ent_text in df_CITIES_API.index.values: \n",
        "            code_country = df_CITIES_API.loc[ent_text].country\n",
        "            if type(code_country) != str:\n",
        "              multiple_cities = True\n",
        "              ent_country = countries_df.loc[code_country[0]].Name\n",
        "            else:\n",
        "              ent_country = countries_df.loc[code_country].Name\n",
        "          elif ent_text in CITIES_IL:\n",
        "            ent_country = 'israel'\n",
        "          else:\n",
        "            ent_country = ''\n",
        "        elif entity._.is_country or ent_text in CITIES_API_country_code:\n",
        "          ent_type = 'country'\n",
        "\n",
        "        if ent_type not in gpe:\n",
        "          gpe[ent_type] = []\n",
        "        if ent_type == 'city':\n",
        "           gpe[ent_type].append((entity.text, ent_country))\n",
        "        else:\n",
        "          gpe[ent_type].append(entity.text)\n",
        "  if len(date) == 0:\n",
        "    date = ['current']\n",
        "\n",
        "  if DEBUG: p('1:', multiple_cities, gpe)\n",
        "  if multiple_cities or ('city' in gpe and len(gpe['city']) > 1):\n",
        "    if 'country' in gpe:\n",
        "      # verify country code of the city is correct, when there multiple cities\n",
        "      for i, (city, city_country) in enumerate(gpe['city']):\n",
        "        country = gpe['country'][0]\n",
        "        if city_country != country:\n",
        "          for code_country in df_CITIES_API.loc[city].country:\n",
        "            if city_country == countries_df.loc[code_country].Name:\n",
        "              # found a matching country\n",
        "              gpe['city'][i] = (city, country)\n",
        "              break\n",
        "    else:\n",
        "      check_capital = True\n",
        "      if len(gpe['city']) == 2: # maybe enter a country which has city with that name (eg. Toronto, US = there is a city name 'us' in france and 'usa' in japan)\n",
        "        # 'city': [('toronto', 'Canada'), ('us', 'france')]\n",
        "        for i in range(1,-1,-1):\n",
        "          city = gpe['city'][i][0].upper()\n",
        "          if city in countries_df.index: #usually the 2nd \"city\" is the country\n",
        "            city_country = countries_df.loc[city].Name\n",
        "            j = 0 if i == 1 else 1\n",
        "            gpe['city'] = (gpe['city'][j][0], city_country)\n",
        "            gpe['country'] = city_country\n",
        "            check_capital = False\n",
        "            break\n",
        "      if check_capital:\n",
        "        # check if one of the cities is a capital or a large city, then use it\n",
        "        for i, (city, city_country) in enumerate(gpe['city']):\n",
        "          if city in capitals_df.index.values:\n",
        "            # found a matching country\n",
        "            city_country = capitals_df.loc[city].country\n",
        "            gpe['city'][i] = (city, city_country)\n",
        "            break\n",
        "          if city in largest_df.index.values:\n",
        "            # found a matching country\n",
        "            city_country = largest_df.loc[city].country\n",
        "            gpe['city'][i] = (city, city_country)\n",
        "            break\n",
        "  elif 'country' in gpe and 'city' in gpe:  # country with city, verify correct\n",
        "      # verify country code of the city is correct, when user entered \n",
        "      city, city_country = gpe['city'][0]\n",
        "      country = gpe['country'][0]\n",
        "      if city_country != country:\n",
        "        gpe['city'] = [(city, f'ERROR: city [{city}] not found in country [{country}] - try a different spelling of the city')]\n",
        "  elif 'country' in gpe and 'city' not in gpe:  # country without city, get the capital\n",
        "    country = gpe['country'][0]\n",
        "    if country in CAPITALS:\n",
        "      gpe['city'] = [(CAPITALS[country], country)]\n",
        "  result = {}\n",
        "  result['date'] = date\n",
        "\n",
        "  result['time']= time\n",
        "  result.update(gpe)\n",
        "  if disp:\n",
        "    p(result)\n",
        "  elif verbose and 'city' not in result:\n",
        "    p(f'FAILED: org [{text}], {result}')\n",
        "  return result\n",
        "\n",
        "DEBUG = False\n",
        "if False and TEST:\n",
        "  get_parts(\"Today weather in a Ra-anana\")\n",
        "  get_parts(\"Today weather in a Ra'anana\")  \n",
        "  get_parts(\"Today weather in a Raanana\")\n",
        "  get_parts(\"weather in toronto\") # there is a city toronto in USA and toronto is not the capital of Canada so we take the first city in the db\n",
        "  get_parts(\"weather in toronto, canada\")\n",
        "  get_parts(\"weather paris next 5 days\")\n",
        "  get_parts(\"tell me how is the weather in the ra- anana in the\")\n",
        "  get_parts(\"rain in toronto\")\n",
        "get_parts(\"weather in toronto, us\")\n",
        "get_parts(\"weather in toronto, canada\")\n",
        "get_parts(\"weather in jenin\")\n",
        "get_parts(\"weather in jenin, israel\")\n"
      ],
      "execution_count": null,
      "outputs": [
        {
          "output_type": "execute_result",
          "data": {
            "text/plain": [
              "{'city': [('jenin',\n",
              "   'ERROR: city [jenin] not found in country [israel] - try a different spelling of the city')],\n",
              " 'country': ['israel'],\n",
              " 'date': ['current'],\n",
              " 'time': []}"
            ]
          },
          "metadata": {
            "tags": []
          },
          "execution_count": 18
        }
      ]
    },
    {
      "cell_type": "code",
      "metadata": {
        "id": "X4nX1SmyOt3k"
      },
      "source": [
        "from datetime import datetime"
      ],
      "execution_count": null,
      "outputs": []
    },
    {
      "cell_type": "code",
      "metadata": {
        "id": "Fde6gUQwOzXY"
      },
      "source": [
        "from spacy.matcher import PhraseMatcher"
      ],
      "execution_count": null,
      "outputs": []
    },
    {
      "cell_type": "code",
      "metadata": {
        "id": "aTzvXRG1O2_U"
      },
      "source": [
        "def load_dates():\n",
        "  fname = 'datesWords.csv'\n",
        "  if GIT:\n",
        "    path_ = git_path\n",
        "    print(path_)\n",
        "  df = pd.read_csv(path_ + fname)\n",
        "  return df\n",
        "datesDf= load_dates()\n",
        "datesDf.head()"
      ],
      "execution_count": null,
      "outputs": []
    },
    {
      "cell_type": "markdown",
      "metadata": {
        "id": "8oT1WWdQPJEP"
      },
      "source": [
        "\n",
        "\n",
        "```\n",
        "# dictionary convert text to numbers\n",
        "```\n",
        "\n"
      ]
    },
    {
      "cell_type": "markdown",
      "metadata": {
        "id": "_bq39oaDCm5d"
      },
      "source": [
        "delta days by day of week "
      ]
    },
    {
      "cell_type": "code",
      "metadata": {
        "id": "BkA_UJtyO97y"
      },
      "source": [
        "dayInWeek={'sunday':1,'monday':2,'tuesday':3,'Wednesday':4,'thursday':5,'friday':6,'saturday':7}"
      ],
      "execution_count": null,
      "outputs": []
    },
    {
      "cell_type": "code",
      "metadata": {
        "id": "4l5DzMPtPQPW"
      },
      "source": [
        "def get_delta_days_weekday(text,dayInWeek ):\n",
        "    days=-999\n",
        "    week=-1\n",
        "    dayInText=999\n",
        "    todayDate=datetime.today()\n",
        "    todayDayWeek=(todayDate.weekday()+2-7) if (todayDate.weekday()+2>7) else  (todayDate.weekday()+2) # get day of week today\n",
        "    if text in list(dayInWeek.keys()): # if there is only one word of day in week\n",
        "      dayInText=dayInWeek[text]\n",
        "      if todayDayWeek<=dayInText:\n",
        "          days=dayInText-todayDayWeek\n",
        "      else:\n",
        "          days=dayInText-todayDayWeek+7\n",
        "    else:# if there are additional word like 'next sunday'\n",
        "      doc=nlp(text)\n",
        "      for entity in doc:\n",
        "        print('the entity is  '+entity.text)\n",
        "        if entity.text in list(dayInWeek.keys()):\n",
        "            dayInText=dayInWeek[entity.text.lower()]\n",
        "            if todayDayWeek<=dayInText:\n",
        "                days=dayInText-todayDayWeek\n",
        "            else:\n",
        "                days=dayInText-todayDayWeek+7\n",
        "                week=0\n",
        "        if ((entity.lemma_=='next') & (week==-1)):\n",
        "          print('get next')\n",
        "          week=1\n",
        "    if week==-1:\n",
        "      week=0\n",
        "\n",
        "    return days,week ,todayDayWeek,dayInText         \n"
      ],
      "execution_count": null,
      "outputs": []
    },
    {
      "cell_type": "code",
      "metadata": {
        "id": "bDvMjuj9PTvS"
      },
      "source": [
        "get_delta_days_weekday(\"friday\",dayInWeek)"
      ],
      "execution_count": null,
      "outputs": []
    },
    {
      "cell_type": "code",
      "metadata": {
        "id": "oQleA2eXPVfS"
      },
      "source": [
        "textToNumbers={'one':1,'two':2,'three':3,'four':4,'five':5,'six':6,'seven':7}"
      ],
      "execution_count": null,
      "outputs": []
    },
    {
      "cell_type": "code",
      "metadata": {
        "id": "fhJd9-jkPXFe"
      },
      "source": [
        "def get_number_period(doc):\n",
        "  week=0\n",
        "  days=-999\n",
        "  for entity in doc:\n",
        "    print(entity.pos_)\n",
        "    if entity.pos_=='NUM':\n",
        "      print(\"found number \"+entity.text)\n",
        "      if (entity.text.isdigit()):\n",
        "          num=int(entity.text)\n",
        "      else:\n",
        "          num=textToNumbers.get(entity.text,-999)\n",
        "      print ('number is '+str(num))\n",
        "      \n",
        "      if (nlp(str(entity.head))[0].lemma_=='week'): # if there is week add it to number to week and if not match it num of days\n",
        "        if (num!=-999):\n",
        "          week=num\n",
        "      elif (nlp(str(entity.head))[0].lemma_=='day') :\n",
        "        days=num\n",
        "  if ((week>0) &(days==-999)):\n",
        "      days=0\n",
        "  return days, week        "
      ],
      "execution_count": null,
      "outputs": []
    },
    {
      "cell_type": "code",
      "metadata": {
        "id": "S7wjGBrLPZK1"
      },
      "source": [
        "get_number_period(nlp('in 2 day'))"
      ],
      "execution_count": null,
      "outputs": []
    },
    {
      "cell_type": "markdown",
      "metadata": {
        "id": "z5icxsN2CcM2"
      },
      "source": [
        "fromat date function"
      ]
    },
    {
      "cell_type": "code",
      "metadata": {
        "id": "OZAv8pFtCXWI"
      },
      "source": [
        "from dateutil.parser import parse ## added ver 2\n",
        "from datetime import date ## added ver 2\n",
        "import string ## added ver 2\n",
        "p=print ## added ver 2\n",
        "space_punct_dict = dict((ord(punct), ' ') for punct in string.punctuation) ## added ver 2"
      ],
      "execution_count": null,
      "outputs": []
    },
    {
      "cell_type": "code",
      "metadata": {
        "id": "tgDePz-qC1-c"
      },
      "source": [
        "## new function added ver 2\n",
        "def is_valid_date_p(dt,disp=False):\n",
        "    if dt:\n",
        "        try:\n",
        "            dt = dt.translate(space_punct_dict)\n",
        "            new_date = str(parse(dt, fuzzy=True))[:10]\n",
        "            if disp==True:\n",
        "              print(new_date)\n",
        "            year = int(new_date[:4])\n",
        "            month = int(new_date[5:7])\n",
        "            day = int(new_date[8:])\n",
        "            ndays = (date(year, month, day) - date.today()).days\n",
        "            return True, year, month, day, ndays\n",
        "        except:\n",
        "            p('invalid:', dt)\n",
        "            return False, None, None, None, None\n",
        "    return False"
      ],
      "execution_count": null,
      "outputs": []
    },
    {
      "cell_type": "code",
      "metadata": {
        "id": "vGY-yun2C2xh"
      },
      "source": [
        "# tests added ver 2\n",
        "year, month, day = 2021, 7, 1\n",
        "  \n",
        "p(is_valid_date_p(f'{month}/{day}/{year}'))\n",
        "p(is_valid_date_p(f'{month}.{day}.{year}'))\n",
        "p(is_valid_date_p(f'{month},{day},{year}'))\n",
        "p(is_valid_date_p(f'{month}/{day}/{year}'))\n",
        "p(is_valid_date_p(f'{month}-{day}-{year}'))\n",
        "p(is_valid_date_p(f'{month} {day} {year}'))\n",
        "p()\n",
        "p(is_valid_date_p('12/1/20'))\n",
        "p(is_valid_date_p('12/31/20'))\n",
        "p()\n",
        "p(is_valid_date_p('31/12/20'))\n",
        "p(is_valid_date_p('30/6/2020'))\n",
        "p(is_valid_date_p('2020/30/6'))\n",
        "p()\n",
        "p(is_valid_date_p('june,30 2020'))\n",
        "p(is_valid_date_p('today'))"
      ],
      "execution_count": null,
      "outputs": []
    },
    {
      "cell_type": "code",
      "metadata": {
        "id": "_CgSKcBpC8Zm"
      },
      "source": [
        "is_valid_date_p('3 chickens') # added ver 2"
      ],
      "execution_count": null,
      "outputs": []
    },
    {
      "cell_type": "markdown",
      "metadata": {
        "id": "VFiBouwcDBXQ"
      },
      "source": [
        "function for speial words like today,tommorow"
      ]
    },
    {
      "cell_type": "code",
      "metadata": {
        "id": "Jn4BZwP_O8Lm"
      },
      "source": [
        "dateToNum={\"today\":0,\"tomorrow\":1,'twoDays':2 }"
      ],
      "execution_count": null,
      "outputs": []
    },
    {
      "cell_type": "code",
      "metadata": {
        "id": "aAo80dpiC_1f"
      },
      "source": [
        "# new function added ver 2\n",
        "def get_days_special_words(df,doc,week,days,disp=False):\n",
        "  numFinal=-999 \n",
        "  for column in df: # run on each column if there is match\n",
        "    matcher = PhraseMatcher(nlp.vocab)\n",
        "    listNlp = [nlp.make_doc(t) for t in df[column].tolist() if str(t) != 'nan']\n",
        "    matcher.add(column,None, *listNlp)\n",
        "    matches = matcher(doc)\n",
        "    print(matches)\n",
        "    if len(matches)>0: # if we find match in the list of column\n",
        "        print(column)\n",
        "        for match_id, start, end in matches:\n",
        "            if disp:\n",
        "                print(\"matchFound\",doc[start:end].text)\n",
        "        if (column==\"nextWeek\"): # check if there \n",
        "            print(\"is next Week\")\n",
        "            week=1\n",
        "        if days==-999:\n",
        "          days=0                                      \n",
        "          numFinal=dateToNum.get(column,-999)\n",
        "        if disp==True:\n",
        "          print(\"numFinal is \"+str(numFinal))\n",
        "        if (numFinal!=-999) | (days==-999):\n",
        "          return numFinal,week\n",
        "  return days,week"
      ],
      "execution_count": null,
      "outputs": []
    },
    {
      "cell_type": "code",
      "metadata": {
        "id": "mwoY_oz4C0rY"
      },
      "source": [
        ""
      ],
      "execution_count": null,
      "outputs": []
    },
    {
      "cell_type": "markdown",
      "metadata": {
        "id": "ditjg8WPPtzF"
      },
      "source": [
        "main function"
      ]
    },
    {
      "cell_type": "code",
      "metadata": {
        "id": "dlQ91xYxPdQ2"
      },
      "source": [
        "def check_date(df,dateText ,dateToNum,disp=False):\n",
        "    rangeDays=1 # added ver 2\n",
        "    days=-999\n",
        "    days2=-999 # added ver 2\n",
        "    week2=-999 # added ver 2\n",
        "    week=0\n",
        "    todayDayWeek=0 # get day in week today\n",
        "    dayInText=0 # get day in week by text\n",
        "    for text in dateText: # check if we get several date variables \n",
        "        if disp==True: # added ver 2\n",
        "          print(\"date text \"+ text) # added ver 2\n",
        "        doc=nlp(text.lower()) # added ver 2\n",
        "        days,week=get_days_special_words(df,doc,week,days,disp) # check special words which exist in the DF dates # added ver 2\n",
        "        if(disp==True):          # added ver 2     \n",
        "          print(\"1.days is \"+str(days)+\" and week is \"+str(week)) # added ver 2                \n",
        "        if ((week==0) & (days==-999) ): ## didn't find word in the DF dates # chaneg order  ver 2\n",
        "          days,week,todayDayWeek,dayInText=get_delta_days_weekday(text.lower(),dayInWeek ) # check day in week and return num of days and week\n",
        "          if(disp==True):# added ver 2\n",
        "            print(\"2.days is \"+str(days)+\" and week is \"+str(week)+\" and days2 is \"+str(days2)) # added ver 2\n",
        "        if days2==-999:  # added ver 2\n",
        "          days2,week2=get_number_period(doc) # check number of days/weeks \"3 days\", can be for two options, num of dasy and range # change order ver 2 \n",
        "          if(disp==True): # added ver 2\n",
        "            print(\"3.days is \"+str(days)+\" and week is \"+str(week)+\" and days2 is \"+str(days2))# added ver 2\n",
        "          if ((week==0) & (days==-999) & (days2==-999)): # check if get format # added ver 2\n",
        "              print(\"check date format'\")# added ver 2\n",
        "              is_date, year, month, day, ndays=is_valid_date_p(text)# added ver 2\n",
        "              if (disp==True) & (is_date==True):# added ver 2\n",
        "                print(\"4.get date by format \"+f\"{year}-{month}-{day}\" + \" num of days is \"+str(ndays))# added ver 2\n",
        "              if is_date==True:# added ver 2\n",
        "                days=ndays# added ver 2\n",
        "                week=0# added ver 2\n",
        "    print(\"number of range is  \"+str(days2)+\" number of dates\" +str(days))# added ver 2        \n",
        "    if (days2!=-999) & (days==-999):# added ver 2\n",
        "      if disp==True:# added ver 2\n",
        "        print(\"dates with just number of days/week\")# added ver 2\n",
        "      days=days2# added ver 2\n",
        "      week=week2# added ver 2\n",
        "    if (days2!=-999) & (days!=-999):# added ver 2\n",
        "      if disp==True:# added ver 2\n",
        "        print(\"get range\")# added ver 2\n",
        "      rangeDays=days2+ week2*7# added ver 2\n",
        "    if (len(dateText)==1):# added ver 2\n",
        "      rangeDays=1    # added ver 2\n",
        "    if(disp==True):               # added ver 2   \n",
        "      print(\"5.days is \"+str(days)+\" and week is \"+str(week))# added ver 2\n",
        "    if days!=-999:# added ver 2\n",
        "      if ((todayDayWeek>dayInText) & (week==1)):\n",
        "        week=0\n",
        "      ndays= week*7+days# added ver 2\n",
        "    else: # added ver 2\n",
        "      ndays=-999 # added ver 2\n",
        "    return ndays, rangeDays   # added ver 2  "
      ],
      "execution_count": null,
      "outputs": []
    },
    {
      "cell_type": "code",
      "metadata": {
        "id": "VWwN9fqHDQ3a"
      },
      "source": [
        "get_parts(\"what is the weather in sunday  next week for 3 days in paris\")"
      ],
      "execution_count": null,
      "outputs": []
    },
    {
      "cell_type": "code",
      "metadata": {
        "id": "GG1yXUNGPe52"
      },
      "source": [
        "check_date(datesDf,[\"friday\",\"next week\",\"3 days\"],dateToNum )"
      ],
      "execution_count": null,
      "outputs": []
    }
  ]
}